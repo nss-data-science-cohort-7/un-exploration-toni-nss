{
 "cells": [
  {
   "cell_type": "code",
   "execution_count": null,
   "metadata": {},
   "outputs": [],
   "source": [
    "##5\n",
    "\n",
    "\n",
    "gdp_df = (   \n",
    "    gdp_df.drop(columns = 'Value Footnotes')\n",
    "    .rename(\n",
    "        columns = {'Country or Area': 'Country','Value': 'GDP_Per_Capita'\n",
    "                  }\n",
    "    )\n",
    ")"
   ]
  },
  {
   "cell_type": "code",
   "execution_count": null,
   "metadata": {},
   "outputs": [],
   "source": [
    "##11\n",
    "\n",
    "# create histogram plot\n",
    "hist, bins, _ = plt.hist(gdp_2014[\"GDP_Per_Capita\"], bins = 4, color = 'skyblue', edgecolor = 'black', range = (0, 160000), alpha = 0.8) #alpha = transparency\n",
    "plt.ylabel('Number of Counties')\n",
    "plt.xlabel('GDP Per Capita')\n",
    "plt.grid(True, linestyle='-.',alpha=0.5)\n",
    "\n",
    "# customize tick marks \n",
    "x_labels = [0, 40000,80000,120000,160000]\n",
    "plt.xticks(x_labels, labels = [0,'40K','80K','120K','160K'])\n",
    "\n",
    "# label the # of items in each bin \n",
    "for i in range(len(bins)-1): \n",
    "    plt.text(bins[i]+0.5,hist[i]+5, str(int(hist[i])), ha='left',va='top')\n",
    "    \n",
    "# change the size of histogram to fit bin labels\n",
    "plt.gcf().set_size_inches(10,7) # (Width, height), doesn't seem to have any changes\n",
    "\n",
    "plt.show()"
   ]
  },
  {
   "cell_type": "code",
   "execution_count": null,
   "metadata": {},
   "outputs": [],
   "source": [
    "##13\n",
    "gdp_pivoted = gdp_df.loc[gdp_df['Year'].isin([1990, 2018])].pivot_table('GDP_Per_Capita', \n",
    "                                                                        index = 'Country', \n",
    "                                                                        columns = 'Year').dropna()\n",
    "gdp_pivoted.head()"
   ]
  },
  {
   "cell_type": "code",
   "execution_count": null,
   "metadata": {},
   "outputs": [],
   "source": [
    "##13\n",
    "# filter the df for 1990 amd 2018 \n",
    "gdp_filter = gdp_df[gdp_df[\"Year\"].isin([1990, 2018])]\n",
    "print(gdp_filter)\n",
    "\n",
    "# pivot data so row=country, column=yr, values=GDP\n",
    "gdp_pivoted = gdp_filter.pivot_table(index='Country',columns='Year',values='GDP_Per_Capita') #index = rows\n",
    "\n",
    "# drop any missing rows \n",
    "gdp_pivoted = gdp_pivoted.dropna(subset=[1990, 2018])\n",
    "print(gdp_pivoted)"
   ]
  }
 ],
 "metadata": {
  "kernelspec": {
   "display_name": "Python 3",
   "language": "python",
   "name": "python3"
  },
  "language_info": {
   "codemirror_mode": {
    "name": "ipython",
    "version": 3
   },
   "file_extension": ".py",
   "mimetype": "text/x-python",
   "name": "python",
   "nbconvert_exporter": "python",
   "pygments_lexer": "ipython3",
   "version": "3.8.5"
  }
 },
 "nbformat": 4,
 "nbformat_minor": 4
}
